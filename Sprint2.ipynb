{
 "cells": [
  {
   "cell_type": "code",
   "execution_count": 5,
   "id": "bccd3017",
   "metadata": {},
   "outputs": [
    {
     "ename": "ValueError",
     "evalue": "could not convert string to float: ''",
     "output_type": "error",
     "traceback": [
      "\u001b[1;31m---------------------------------------------------------------------------\u001b[0m",
      "\u001b[1;31mValueError\u001b[0m                                Traceback (most recent call last)",
      "Input \u001b[1;32mIn [5]\u001b[0m, in \u001b[0;36m<cell line: 2>\u001b[1;34m()\u001b[0m\n\u001b[0;32m      9\u001b[0m     count \u001b[38;5;241m=\u001b[39m count \u001b[38;5;241m+\u001b[39m \u001b[38;5;241m1\u001b[39m\n\u001b[0;32m     10\u001b[0m     \u001b[38;5;28;01mcontinue\u001b[39;00m\n\u001b[1;32m---> 11\u001b[0m \u001b[38;5;28;01mif\u001b[39;00m \u001b[38;5;28;43mfloat\u001b[39;49m\u001b[43m(\u001b[49m\u001b[43mrow\u001b[49m\u001b[43m[\u001b[49m\u001b[38;5;241;43m14\u001b[39;49m\u001b[43m]\u001b[49m\u001b[43m)\u001b[49m \u001b[38;5;241m>\u001b[39m \u001b[38;5;241m20\u001b[39m \u001b[38;5;129;01mand\u001b[39;00m \u001b[38;5;28mfloat\u001b[39m(row[\u001b[38;5;241m14\u001b[39m]) \u001b[38;5;241m<\u001b[39m \u001b[38;5;241m44\u001b[39m \u001b[38;5;129;01mand\u001b[39;00m row[\u001b[38;5;241m15\u001b[39m] \u001b[38;5;241m==\u001b[39m \u001b[38;5;124m'\u001b[39m\u001b[38;5;124mCredit card\u001b[39m\u001b[38;5;124m'\u001b[39m:\n\u001b[0;32m     12\u001b[0m     \u001b[38;5;28;01mif\u001b[39;00m row[\u001b[38;5;241m1\u001b[39m] \u001b[38;5;129;01mnot\u001b[39;00m \u001b[38;5;129;01min\u001b[39;00m taxi_ids:\n\u001b[0;32m     13\u001b[0m         count_trips \u001b[38;5;241m=\u001b[39m count_trips \u001b[38;5;241m+\u001b[39m \u001b[38;5;241m1\u001b[39m\n",
      "\u001b[1;31mValueError\u001b[0m: could not convert string to float: ''"
     ]
    }
   ],
   "source": [
    "import csv\n",
    "with open ('actividad2.csv') as csvfile:\n",
    "    csv_reader = csv.reader (csvfile, delimiter = ',')\n",
    "    count = 0\n",
    "    count_trips = \"0\"\n",
    "    taxi_ids = []\n",
    "    for row in csv_reader:\n",
    "        if count == 0:\n",
    "            count = count + 1\n",
    "            continue\n",
    "        if float(row[14]) > 20 and float(row[14]) < 44 and row[15] == 'Credit card':\n",
    "            if row[1] not in taxi_ids:\n",
    "                count_trips = count_trips + 1\n",
    "                taxi_ids.append(row[1])\n",
    "    print(count_trips)\n",
    "    "
   ]
  },
  {
   "cell_type": "code",
   "execution_count": 7,
   "id": "4bb77682",
   "metadata": {},
   "outputs": [
    {
     "ename": "TypeError",
     "evalue": "can only concatenate str (not \"int\") to str",
     "output_type": "error",
     "traceback": [
      "\u001b[1;31m---------------------------------------------------------------------------\u001b[0m",
      "\u001b[1;31mTypeError\u001b[0m                                 Traceback (most recent call last)",
      "Input \u001b[1;32mIn [7]\u001b[0m, in \u001b[0;36m<cell line: 2>\u001b[1;34m()\u001b[0m\n\u001b[0;32m     11\u001b[0m     \u001b[38;5;28;01mif\u001b[39;00m (\u001b[38;5;28mfloat\u001b[39m(row[\u001b[38;5;241m14\u001b[39m]) \u001b[38;5;241m<\u001b[39m \u001b[38;5;241m10\u001b[39m \u001b[38;5;129;01mor\u001b[39;00m \u001b[38;5;28mfloat\u001b[39m(row[\u001b[38;5;241m14\u001b[39m]) ) \u001b[38;5;129;01mand\u001b[39;00m row[\u001b[38;5;241m15\u001b[39m] \u001b[38;5;241m==\u001b[39m \u001b[38;5;124m\"\u001b[39m\u001b[38;5;124mCash\u001b[39m\u001b[38;5;124m\"\u001b[39m:\n\u001b[0;32m     12\u001b[0m         \u001b[38;5;28;01mif\u001b[39;00m row[\u001b[38;5;241m1\u001b[39m] \u001b[38;5;129;01mnot\u001b[39;00m \u001b[38;5;129;01min\u001b[39;00m taxi_ids:\n\u001b[1;32m---> 13\u001b[0m             count_trips \u001b[38;5;241m=\u001b[39m \u001b[43mcount_trips\u001b[49m\u001b[43m \u001b[49m\u001b[38;5;241;43m+\u001b[39;49m\u001b[43m \u001b[49m\u001b[38;5;241;43m1\u001b[39;49m\n\u001b[0;32m     14\u001b[0m             taxi_ids\u001b[38;5;241m.\u001b[39mappend(row[\u001b[38;5;241m1\u001b[39m])\n\u001b[0;32m     15\u001b[0m \u001b[38;5;28mprint\u001b[39m(count_trips)\n",
      "\u001b[1;31mTypeError\u001b[0m: can only concatenate str (not \"int\") to str"
     ]
    }
   ],
   "source": [
    "import csv\n",
    "with open ('actividad2.csv') as csvfile:\n",
    "    csv_reader = csv.reader (csvfile, delimiter = ',')\n",
    "    count = 0\n",
    "    count_trips = \"0\"\n",
    "    taxi_ids = []\n",
    "    for row in csv_reader:\n",
    "        if count == 0:\n",
    "            count = count + 1\n",
    "            continue\n",
    "        if (float(row[14]) < 10 or float(row[14]) ) and row[15] == \"Cash\":\n",
    "            if row[1] not in taxi_ids:\n",
    "                count_trips = count_trips + 1\n",
    "                taxi_ids.append(row[1])\n",
    "    print(count_trips)"
   ]
  },
  {
   "cell_type": "code",
   "execution_count": null,
   "id": "755c4605",
   "metadata": {},
   "outputs": [],
   "source": []
  }
 ],
 "metadata": {
  "kernelspec": {
   "display_name": "Python 3 (ipykernel)",
   "language": "python",
   "name": "python3"
  },
  "language_info": {
   "codemirror_mode": {
    "name": "ipython",
    "version": 3
   },
   "file_extension": ".py",
   "mimetype": "text/x-python",
   "name": "python",
   "nbconvert_exporter": "python",
   "pygments_lexer": "ipython3",
   "version": "3.9.12"
  }
 },
 "nbformat": 4,
 "nbformat_minor": 5

